{
 "cells": [
  {
   "cell_type": "code",
   "execution_count": 1,
   "metadata": {},
   "outputs": [],
   "source": [
    "import util"
   ]
  },
  {
   "cell_type": "code",
   "execution_count": 19,
   "metadata": {},
   "outputs": [],
   "source": [
    "dataset = util.load_openstax_course('University Physics Volume 1')"
   ]
  },
  {
   "cell_type": "code",
   "execution_count": 23,
   "metadata": {},
   "outputs": [
    {
     "data": {
      "text/html": [
       "<div>\n",
       "<style scoped>\n",
       "    .dataframe tbody tr th:only-of-type {\n",
       "        vertical-align: middle;\n",
       "    }\n",
       "\n",
       "    .dataframe tbody tr th {\n",
       "        vertical-align: top;\n",
       "    }\n",
       "\n",
       "    .dataframe thead th {\n",
       "        text-align: right;\n",
       "    }\n",
       "</style>\n",
       "<table border=\"1\" class=\"dataframe\">\n",
       "  <thead>\n",
       "    <tr style=\"text-align: right;\">\n",
       "      <th></th>\n",
       "      <th>question</th>\n",
       "      <th>learning_goal</th>\n",
       "    </tr>\n",
       "  </thead>\n",
       "  <tbody>\n",
       "    <tr>\n",
       "      <th>0</th>\n",
       "      <td>Find the order of magnitude of the following p...</td>\n",
       "      <td>Describe the scope of physics.</td>\n",
       "    </tr>\n",
       "    <tr>\n",
       "      <th>1</th>\n",
       "      <td>Find the order of magnitude of the following p...</td>\n",
       "      <td>Calculate the order of magnitude of a quantity.</td>\n",
       "    </tr>\n",
       "    <tr>\n",
       "      <th>2</th>\n",
       "      <td>Find the order of magnitude of the following p...</td>\n",
       "      <td>Compare measurable length, mass, and timescale...</td>\n",
       "    </tr>\n",
       "    <tr>\n",
       "      <th>3</th>\n",
       "      <td>Find the order of magnitude of the following p...</td>\n",
       "      <td>Describe the relationships among models, theor...</td>\n",
       "    </tr>\n",
       "    <tr>\n",
       "      <th>4</th>\n",
       "      <td>Use the orders of magnitude you found in the p...</td>\n",
       "      <td>Describe the scope of physics.</td>\n",
       "    </tr>\n",
       "  </tbody>\n",
       "</table>\n",
       "</div>"
      ],
      "text/plain": [
       "                                            question  \\\n",
       "0  Find the order of magnitude of the following p...   \n",
       "1  Find the order of magnitude of the following p...   \n",
       "2  Find the order of magnitude of the following p...   \n",
       "3  Find the order of magnitude of the following p...   \n",
       "4  Use the orders of magnitude you found in the p...   \n",
       "\n",
       "                                       learning_goal  \n",
       "0                     Describe the scope of physics.  \n",
       "1    Calculate the order of magnitude of a quantity.  \n",
       "2  Compare measurable length, mass, and timescale...  \n",
       "3  Describe the relationships among models, theor...  \n",
       "4                     Describe the scope of physics.  "
      ]
     },
     "execution_count": 23,
     "metadata": {},
     "output_type": "execute_result"
    }
   ],
   "source": [
    "dataset.head()"
   ]
  },
  {
   "cell_type": "code",
   "execution_count": 24,
   "metadata": {},
   "outputs": [
    {
     "data": {
      "text/plain": [
       "(327,)"
      ]
     },
     "execution_count": 24,
     "metadata": {},
     "output_type": "execute_result"
    }
   ],
   "source": [
    "dataset['learning_goal'].value_counts().shape"
   ]
  },
  {
   "cell_type": "code",
   "execution_count": 25,
   "metadata": {},
   "outputs": [
    {
     "data": {
      "text/plain": [
       "(1036,)"
      ]
     },
     "execution_count": 25,
     "metadata": {},
     "output_type": "execute_result"
    }
   ],
   "source": [
    "dataset['question'].value_counts().shape"
   ]
  },
  {
   "cell_type": "code",
   "execution_count": 26,
   "metadata": {},
   "outputs": [
    {
     "data": {
      "text/plain": [
       "(98,)"
      ]
     },
     "execution_count": 26,
     "metadata": {},
     "output_type": "execute_result"
    }
   ],
   "source": [
    "dataset.groupby('question')['learning_goal'].agg(list).value_counts().shape"
   ]
  },
  {
   "cell_type": "markdown",
   "metadata": {},
   "source": [
    "1. Define what a task is \n",
    "2. (small) Debug code so that it loads Chemistry 2e\n",
    "3. (ambitious) Try a simple finetuning baseline"
   ]
  },
  {
   "cell_type": "markdown",
   "metadata": {},
   "source": [
    "4. Preprcoessing data\n",
    " - (for Principles of Chemistry) stem the verb of the learning goal\n",
    " - Unicode characters:\n",
    "    - delta --> \"delta\"\n",
    "    - exponents?"
   ]
  },
  {
   "cell_type": "code",
   "execution_count": 7,
   "metadata": {},
   "outputs": [],
   "source": [
    "def k_shot_sample(data, learning_goal, match=True, k=5):\n",
    "  if match:\n",
    "    sample_data = data[data['learning_goal'] == learning_goal]\n",
    "  else:\n",
    "    sample_data = data[data['learning_goal'] != learning_goal]\n",
    "  return sample_data.sample(n=min(k, len(sample_data)))\n",
    "  \n",
    "  \n",
    "def meta_task(data, k=5):\n",
    "  # very clunky, but only look at data whose learning goals have enough examples\n",
    "  data = data[data['learning_goal'].isin(\n",
    "      data['learning_goal'].value_counts()[data['learning_goal'].value_counts() >= k].index\n",
    "  )]\n",
    "  query = np.random.choice(data['question'].unique())\n",
    "  learning_goal = data[data['question'] == query]['learning_goal'].sample().values[0]\n",
    "  k_shot_true = k_shot_sample(data[data['question'] != query], learning_goal, match=True, k=k)\n",
    "  k_shot_false = k_shot_sample(data[data['question'] != query], learning_goal, match=False, k=k)\n",
    "  return k_shot_true, k_shot_false, query, learning_goal\n"
   ]
  },
  {
   "cell_type": "code",
   "execution_count": 3,
   "metadata": {},
   "outputs": [],
   "source": [
    "import re\n",
    "\n",
    "def parse_table_of_contents(filename):\n",
    "    with open(filename) as f:\n",
    "        lines = [line.strip() for line in f]\n",
    "    chapter_names = [\n",
    "        line for line in lines \n",
    "        if re.match('[0-9]+\\.[0-9]+', line)\n",
    "    ]\n",
    "    return chapter_names"
   ]
  },
  {
   "cell_type": "code",
   "execution_count": 20,
   "metadata": {},
   "outputs": [],
   "source": [
    "import urllib\n",
    "\n",
    "def scrape_learning_goals(url):\n",
    "    response = urllib.request.urlopen(url)\n",
    "    html = response.read().decode('utf8')\n",
    "    objectives_list = re.findall('<ul id=\\\"list-00001\\\">[\\s\\S]*?</ul>', html)[0]\n",
    "    learning_objectives = re.findall('<li>[\\s\\S].*</li>', objectives_list)\n",
    "    return [item[4:-5] for item in learning_objectives]\n",
    "\n",
    "def clean_url_extension(chapter_name):\n",
    "    return chapter_name.lower().replace(',', '').replace(':', '').replace(' ', '-').replace('.', '-')\n",
    "    \n",
    "\n",
    "def read_learning_goals(chapter_names, base_url):\n",
    "    learning_goals = {}\n",
    "    for chapter in chapter_names:\n",
    "        url = base_url + clean_url_extension(chapter)\n",
    "        print(url)\n",
    "        learning_goals[chapter] = scrape_learning_goals(url)\n",
    "    return learning_goals\n"
   ]
  },
  {
   "cell_type": "code",
   "execution_count": 21,
   "metadata": {},
   "outputs": [
    {
     "name": "stdout",
     "output_type": "stream",
     "text": [
      "https://openstax.org/books/biology-2e/pages/1-1-the-science-of-biology\n",
      "https://openstax.org/books/biology-2e/pages/1-2-themes-and-concepts-of-biology\n",
      "https://openstax.org/books/biology-2e/pages/2-1-atoms-isotopes-ions-and-molecules-the-building-blocks\n",
      "https://openstax.org/books/biology-2e/pages/2-2-water\n",
      "https://openstax.org/books/biology-2e/pages/2-3-carbon\n",
      "https://openstax.org/books/biology-2e/pages/3-1-synthesis-of-biological-macromolecules\n",
      "https://openstax.org/books/biology-2e/pages/3-2-carbohydrates\n",
      "https://openstax.org/books/biology-2e/pages/3-3-lipids\n",
      "https://openstax.org/books/biology-2e/pages/3-4-proteins\n",
      "https://openstax.org/books/biology-2e/pages/3-5-nucleic-acids\n",
      "https://openstax.org/books/biology-2e/pages/4-1-studying-cells\n",
      "https://openstax.org/books/biology-2e/pages/4-2-prokaryotic-cells\n",
      "https://openstax.org/books/biology-2e/pages/4-3-eukaryotic-cells\n",
      "https://openstax.org/books/biology-2e/pages/4-4-the-endomembrane-system-and-proteins\n",
      "https://openstax.org/books/biology-2e/pages/4-5-the-cytoskeleton\n",
      "https://openstax.org/books/biology-2e/pages/4-6-connections-between-cells-and-cellular-activities\n",
      "https://openstax.org/books/biology-2e/pages/5-1-components-and-structure\n",
      "https://openstax.org/books/biology-2e/pages/5-2-passive-transport\n",
      "https://openstax.org/books/biology-2e/pages/5-3-active-transport\n",
      "https://openstax.org/books/biology-2e/pages/5-4-bulk-transport\n",
      "https://openstax.org/books/biology-2e/pages/6-1-energy-and-metabolism\n",
      "https://openstax.org/books/biology-2e/pages/6-2-potential-kinetic-free-and-activation-energy\n",
      "https://openstax.org/books/biology-2e/pages/6-3-the-laws-of-thermodynamics\n",
      "https://openstax.org/books/biology-2e/pages/6-4-atp-adenosine-triphosphate\n",
      "https://openstax.org/books/biology-2e/pages/6-5-enzymes\n",
      "https://openstax.org/books/biology-2e/pages/7-1-energy-in-living-systems\n",
      "https://openstax.org/books/biology-2e/pages/7-2-glycolysis\n",
      "https://openstax.org/books/biology-2e/pages/7-3-oxidation-of-pyruvate-and-the-citric-acid-cycle\n",
      "https://openstax.org/books/biology-2e/pages/7-4-oxidative-phosphorylation\n",
      "https://openstax.org/books/biology-2e/pages/7-5-metabolism-without-oxygen\n",
      "https://openstax.org/books/biology-2e/pages/7-6-connections-of-carbohydrate-protein-and-lipid-metabolic-pathways\n",
      "https://openstax.org/books/biology-2e/pages/7-7-regulation-of-cellular-respiration\n",
      "https://openstax.org/books/biology-2e/pages/8-1-overview-of-photosynthesis\n",
      "https://openstax.org/books/biology-2e/pages/8-2-the-light-dependent-reactions-of-photosynthesis\n",
      "https://openstax.org/books/biology-2e/pages/8-3-using-light-energy-to-make-organic-molecules\n",
      "https://openstax.org/books/biology-2e/pages/9-1-signaling-molecules-and-cellular-receptors\n",
      "https://openstax.org/books/biology-2e/pages/9-2-propagation-of-the-signal\n",
      "https://openstax.org/books/biology-2e/pages/9-3-response-to-the-signal\n",
      "https://openstax.org/books/biology-2e/pages/9-4-signaling-in-single-celled-organisms\n",
      "https://openstax.org/books/biology-2e/pages/10-1-cell-division\n",
      "https://openstax.org/books/biology-2e/pages/10-2-the-cell-cycle\n",
      "https://openstax.org/books/biology-2e/pages/10-3-control-of-the-cell-cycle\n",
      "https://openstax.org/books/biology-2e/pages/10-4-cancer-and-the-cell-cycle\n",
      "https://openstax.org/books/biology-2e/pages/10-5-prokaryotic-cell-division\n",
      "https://openstax.org/books/biology-2e/pages/11-1-the-process-of-meiosis\n",
      "https://openstax.org/books/biology-2e/pages/11-2-sexual-reproduction\n",
      "https://openstax.org/books/biology-2e/pages/12-1-mendels-experiments-and-the-laws-of-probability\n",
      "https://openstax.org/books/biology-2e/pages/12-2-characteristics-and-traits\n",
      "https://openstax.org/books/biology-2e/pages/12-3-laws-of-inheritance\n",
      "https://openstax.org/books/biology-2e/pages/13-1-chromosomal-theory-and-genetic-linkage\n",
      "https://openstax.org/books/biology-2e/pages/13-2-chromosomal-basis-of-inherited-disorders\n",
      "https://openstax.org/books/biology-2e/pages/14-1-historical-basis-of-modern-understanding\n",
      "https://openstax.org/books/biology-2e/pages/14-2-dna-structure-and-sequencing\n",
      "https://openstax.org/books/biology-2e/pages/14-3-basics-of-dna-replication\n",
      "https://openstax.org/books/biology-2e/pages/14-4-dna-replication-in-prokaryotes\n",
      "https://openstax.org/books/biology-2e/pages/14-5-dna-replication-in-eukaryotes\n",
      "https://openstax.org/books/biology-2e/pages/14-6-dna-repair\n",
      "https://openstax.org/books/biology-2e/pages/15-1-the-genetic-code\n",
      "https://openstax.org/books/biology-2e/pages/15-2-prokaryotic-transcription\n",
      "https://openstax.org/books/biology-2e/pages/15-3-eukaryotic-transcription\n",
      "https://openstax.org/books/biology-2e/pages/15-4-rna-processing-in-eukaryotes\n",
      "https://openstax.org/books/biology-2e/pages/15-5-ribosomes-and-protein-synthesis\n",
      "https://openstax.org/books/biology-2e/pages/16-1-regulation-of-gene-expression\n",
      "https://openstax.org/books/biology-2e/pages/16-2-prokaryotic-gene-regulation\n",
      "https://openstax.org/books/biology-2e/pages/16-3-eukaryotic-epigenetic-gene-regulation\n",
      "https://openstax.org/books/biology-2e/pages/16-4-eukaryotic-transcription-gene-regulation\n",
      "https://openstax.org/books/biology-2e/pages/16-5-eukaryotic-post-transcriptional-gene-regulation\n",
      "https://openstax.org/books/biology-2e/pages/16-6-eukaryotic-translational-and-post-translational-gene-regulation\n",
      "https://openstax.org/books/biology-2e/pages/16-7-cancer-and-gene-regulation\n",
      "https://openstax.org/books/biology-2e/pages/17-1-biotechnology\n",
      "https://openstax.org/books/biology-2e/pages/17-2-mapping-genomes\n",
      "https://openstax.org/books/biology-2e/pages/17-3-whole-genome-sequencing\n",
      "https://openstax.org/books/biology-2e/pages/17-4-applying-genomics\n",
      "https://openstax.org/books/biology-2e/pages/17-5-genomics-and-proteomics\n",
      "https://openstax.org/books/biology-2e/pages/18-1-understanding-evolution\n",
      "https://openstax.org/books/biology-2e/pages/18-2-formation-of-new-species\n",
      "https://openstax.org/books/biology-2e/pages/18-3-reconnection-and-speciation-rates\n",
      "https://openstax.org/books/biology-2e/pages/19-1-population-evolution\n",
      "https://openstax.org/books/biology-2e/pages/19-2-population-genetics\n",
      "https://openstax.org/books/biology-2e/pages/19-3-adaptive-evolution\n",
      "https://openstax.org/books/biology-2e/pages/20-1-organizing-life-on-earth\n",
      "https://openstax.org/books/biology-2e/pages/20-2-determining-evolutionary-relationships\n",
      "https://openstax.org/books/biology-2e/pages/20-3-perspectives-on-the-phylogenetic-tree\n",
      "https://openstax.org/books/biology-2e/pages/21-1-viral-evolution-morphology-and-classification\n",
      "https://openstax.org/books/biology-2e/pages/21-2-virus-infections-and-hosts\n",
      "https://openstax.org/books/biology-2e/pages/21-3-prevention-and-treatment-of-viral-infections\n",
      "https://openstax.org/books/biology-2e/pages/21-4-other-acellular-entities-prions-and-viroids\n",
      "https://openstax.org/books/biology-2e/pages/22-1-prokaryotic-diversity\n",
      "https://openstax.org/books/biology-2e/pages/22-2-structure-of-prokaryotes-bacteria-and-archaea\n",
      "https://openstax.org/books/biology-2e/pages/22-3-prokaryotic-metabolism\n",
      "https://openstax.org/books/biology-2e/pages/22-4-bacterial-diseases-in-humans\n",
      "https://openstax.org/books/biology-2e/pages/22-5-beneficial-prokaryotes\n",
      "https://openstax.org/books/biology-2e/pages/23-1-eukaryotic-origins\n",
      "https://openstax.org/books/biology-2e/pages/23-2-characteristics-of-protists\n",
      "https://openstax.org/books/biology-2e/pages/23-3-groups-of-protists\n",
      "https://openstax.org/books/biology-2e/pages/23-4-ecology-of-protists\n",
      "https://openstax.org/books/biology-2e/pages/24-1-characteristics-of-fungi\n",
      "https://openstax.org/books/biology-2e/pages/24-2-classifications-of-fungi\n",
      "https://openstax.org/books/biology-2e/pages/24-3-ecology-of-fungi\n",
      "https://openstax.org/books/biology-2e/pages/24-4-fungal-parasites-and-pathogens\n",
      "https://openstax.org/books/biology-2e/pages/24-5-importance-of-fungi-in-human-life\n",
      "https://openstax.org/books/biology-2e/pages/25-1-early-plant-life\n",
      "https://openstax.org/books/biology-2e/pages/25-2-green-algae-precursors-of-land-plants\n",
      "https://openstax.org/books/biology-2e/pages/25-3-bryophytes\n",
      "https://openstax.org/books/biology-2e/pages/25-4-seedless-vascular-plants\n",
      "https://openstax.org/books/biology-2e/pages/26-1-evolution-of-seed-plants\n",
      "https://openstax.org/books/biology-2e/pages/26-2-gymnosperms\n",
      "https://openstax.org/books/biology-2e/pages/26-3-angiosperms\n",
      "https://openstax.org/books/biology-2e/pages/26-4-the-role-of-seed-plants\n",
      "https://openstax.org/books/biology-2e/pages/27-1-features-of-the-animal-kingdom\n",
      "https://openstax.org/books/biology-2e/pages/27-2-features-used-to-classify-animals\n",
      "https://openstax.org/books/biology-2e/pages/27-3-animal-phylogeny\n",
      "https://openstax.org/books/biology-2e/pages/27-4-the-evolutionary-history-of-the-animal-kingdom\n",
      "https://openstax.org/books/biology-2e/pages/28-1-phylum-porifera\n",
      "https://openstax.org/books/biology-2e/pages/28-2-phylum-cnidaria\n",
      "https://openstax.org/books/biology-2e/pages/28-3-superphylum-lophotrochozoa-flatworms-rotifers-and-nemerteans\n",
      "https://openstax.org/books/biology-2e/pages/28-4-superphylum-lophotrochozoa-molluscs-and-annelids\n",
      "https://openstax.org/books/biology-2e/pages/28-5-superphylum-ecdysozoa-nematodes-and-tardigrades\n",
      "https://openstax.org/books/biology-2e/pages/28-6-superphylum-ecdysozoa-arthropods\n",
      "https://openstax.org/books/biology-2e/pages/28-7-superphylum-deuterostomia\n",
      "https://openstax.org/books/biology-2e/pages/29-1-chordates\n",
      "https://openstax.org/books/biology-2e/pages/29-2-fishes\n",
      "https://openstax.org/books/biology-2e/pages/29-3-amphibians\n",
      "https://openstax.org/books/biology-2e/pages/29-4-reptiles\n",
      "https://openstax.org/books/biology-2e/pages/29-5-birds\n",
      "https://openstax.org/books/biology-2e/pages/29-6-mammals\n",
      "https://openstax.org/books/biology-2e/pages/29-7-the-evolution-of-primates\n",
      "https://openstax.org/books/biology-2e/pages/30-1-the-plant-body\n",
      "https://openstax.org/books/biology-2e/pages/30-2-stems\n",
      "https://openstax.org/books/biology-2e/pages/30-3-roots\n",
      "https://openstax.org/books/biology-2e/pages/30-4-leaves\n",
      "https://openstax.org/books/biology-2e/pages/30-5-transport-of-water-and-solutes-in-plants\n",
      "https://openstax.org/books/biology-2e/pages/30-6-plant-sensory-systems-and-responses\n",
      "https://openstax.org/books/biology-2e/pages/31-1-nutritional-requirements-of-plants\n",
      "https://openstax.org/books/biology-2e/pages/31-2-the-soil\n",
      "https://openstax.org/books/biology-2e/pages/31-3-nutritional-adaptations-of-plants\n",
      "https://openstax.org/books/biology-2e/pages/32-1-reproductive-development-and-structure\n",
      "https://openstax.org/books/biology-2e/pages/32-2-pollination-and-fertilization\n",
      "https://openstax.org/books/biology-2e/pages/32-3-asexual-reproduction\n",
      "https://openstax.org/books/biology-2e/pages/33-1-animal-form-and-function\n",
      "https://openstax.org/books/biology-2e/pages/33-2-animal-primary-tissues\n",
      "https://openstax.org/books/biology-2e/pages/33-3-homeostasis\n",
      "https://openstax.org/books/biology-2e/pages/34-1-digestive-systems\n",
      "https://openstax.org/books/biology-2e/pages/34-2-nutrition-and-energy-production\n",
      "https://openstax.org/books/biology-2e/pages/34-3-digestive-system-processes\n",
      "https://openstax.org/books/biology-2e/pages/34-4-digestive-system-regulation\n",
      "https://openstax.org/books/biology-2e/pages/35-1-neurons-and-glial-cells\n",
      "https://openstax.org/books/biology-2e/pages/35-2-how-neurons-communicate\n",
      "https://openstax.org/books/biology-2e/pages/35-3-the-central-nervous-system\n",
      "https://openstax.org/books/biology-2e/pages/35-4-the-peripheral-nervous-system\n",
      "https://openstax.org/books/biology-2e/pages/35-5-nervous-system-disorders\n",
      "https://openstax.org/books/biology-2e/pages/36-1-sensory-processes\n",
      "https://openstax.org/books/biology-2e/pages/36-2-somatosensation\n",
      "https://openstax.org/books/biology-2e/pages/36-3-taste-and-smell\n",
      "https://openstax.org/books/biology-2e/pages/36-4-hearing-and-vestibular-sensation\n",
      "https://openstax.org/books/biology-2e/pages/36-5-vision\n",
      "https://openstax.org/books/biology-2e/pages/37-1-types-of-hormones\n",
      "https://openstax.org/books/biology-2e/pages/37-2-how-hormones-work\n",
      "https://openstax.org/books/biology-2e/pages/37-3-regulation-of-body-processes\n",
      "https://openstax.org/books/biology-2e/pages/37-4-regulation-of-hormone-production\n",
      "https://openstax.org/books/biology-2e/pages/37-5-endocrine-glands\n",
      "https://openstax.org/books/biology-2e/pages/38-1-types-of-skeletal-systems\n",
      "https://openstax.org/books/biology-2e/pages/38-2-bone\n",
      "https://openstax.org/books/biology-2e/pages/38-3-joints-and-skeletal-movement\n",
      "https://openstax.org/books/biology-2e/pages/38-4-muscle-contraction-and-locomotion\n",
      "https://openstax.org/books/biology-2e/pages/39-1-systems-of-gas-exchange\n",
      "https://openstax.org/books/biology-2e/pages/39-2-gas-exchange-across-respiratory-surfaces\n",
      "https://openstax.org/books/biology-2e/pages/39-3-breathing\n",
      "https://openstax.org/books/biology-2e/pages/39-4-transport-of-gases-in-human-bodily-fluids\n",
      "https://openstax.org/books/biology-2e/pages/40-1-overview-of-the-circulatory-system\n",
      "https://openstax.org/books/biology-2e/pages/40-2-components-of-the-blood\n",
      "https://openstax.org/books/biology-2e/pages/40-3-mammalian-heart-and-blood-vessels\n",
      "https://openstax.org/books/biology-2e/pages/40-4-blood-flow-and-blood-pressure-regulation\n",
      "https://openstax.org/books/biology-2e/pages/41-1-osmoregulation-and-osmotic-balance\n",
      "https://openstax.org/books/biology-2e/pages/41-2-the-kidneys-and-osmoregulatory-organs\n",
      "https://openstax.org/books/biology-2e/pages/41-3-excretion-systems\n",
      "https://openstax.org/books/biology-2e/pages/41-4-nitrogenous-wastes\n",
      "https://openstax.org/books/biology-2e/pages/41-5-hormonal-control-of-osmoregulatory-functions\n",
      "https://openstax.org/books/biology-2e/pages/42-1-innate-immune-response\n",
      "https://openstax.org/books/biology-2e/pages/42-2-adaptive-immune-response\n",
      "https://openstax.org/books/biology-2e/pages/42-3-antibodies\n",
      "https://openstax.org/books/biology-2e/pages/42-4-disruptions-in-the-immune-system\n",
      "https://openstax.org/books/biology-2e/pages/43-1-reproduction-methods\n",
      "https://openstax.org/books/biology-2e/pages/43-2-fertilization\n",
      "https://openstax.org/books/biology-2e/pages/43-3-human-reproductive-anatomy-and-gametogenesis\n",
      "https://openstax.org/books/biology-2e/pages/43-4-hormonal-control-of-human-reproduction\n",
      "https://openstax.org/books/biology-2e/pages/43-5-human-pregnancy-and-birth\n",
      "https://openstax.org/books/biology-2e/pages/43-6-fertilization-and-early-embryonic-development\n",
      "https://openstax.org/books/biology-2e/pages/43-7-organogenesis-and-vertebrate-formation\n",
      "https://openstax.org/books/biology-2e/pages/44-1-the-scope-of-ecology\n",
      "https://openstax.org/books/biology-2e/pages/44-2-biogeography\n",
      "https://openstax.org/books/biology-2e/pages/44-3-terrestrial-biomes\n",
      "https://openstax.org/books/biology-2e/pages/44-4-aquatic-biomes\n",
      "https://openstax.org/books/biology-2e/pages/44-5-climate-and-the-effects-of-global-climate-change\n",
      "https://openstax.org/books/biology-2e/pages/45-1-population-demography\n",
      "https://openstax.org/books/biology-2e/pages/45-2-life-histories-and-natural-selection\n",
      "https://openstax.org/books/biology-2e/pages/45-3-environmental-limits-to-population-growth\n",
      "https://openstax.org/books/biology-2e/pages/45-4-population-dynamics-and-regulation\n",
      "https://openstax.org/books/biology-2e/pages/45-5-human-population-growth\n",
      "https://openstax.org/books/biology-2e/pages/45-6-community-ecology\n",
      "https://openstax.org/books/biology-2e/pages/45-7-behavioral-biology-proximate-and-ultimate-causes-of-behavior\n",
      "https://openstax.org/books/biology-2e/pages/46-1-ecology-of-ecosystems\n",
      "https://openstax.org/books/biology-2e/pages/46-2-energy-flow-through-ecosystems\n",
      "https://openstax.org/books/biology-2e/pages/46-3-biogeochemical-cycles\n",
      "https://openstax.org/books/biology-2e/pages/47-1-the-biodiversity-crisis\n",
      "https://openstax.org/books/biology-2e/pages/47-2-the-importance-of-biodiversity-to-human-life\n",
      "https://openstax.org/books/biology-2e/pages/47-3-threats-to-biodiversity\n",
      "https://openstax.org/books/biology-2e/pages/47-4-preserving-biodiversity\n"
     ]
    }
   ],
   "source": [
    "chapter_names = parse_table_of_contents('biology2e_table_of_contents.txt')\n",
    "base_url = 'https://openstax.org/books/biology-2e/pages/'\n",
    "\n",
    "learning_goals = read_learning_goals(chapter_names, base_url)"
   ]
  },
  {
   "cell_type": "code",
   "execution_count": 27,
   "metadata": {},
   "outputs": [
    {
     "name": "stdout",
     "output_type": "stream",
     "text": [
      "https://openstax.org/books/university-physics-volume-2/pages/1-1-temperature-and-thermal-equilibrium\n",
      "https://openstax.org/books/university-physics-volume-2/pages/1-2-thermometers-and-temperature-scales\n",
      "https://openstax.org/books/university-physics-volume-2/pages/1-3-thermal-expansion\n",
      "https://openstax.org/books/university-physics-volume-2/pages/1-4-heat-transfer-specific-heat-and-calorimetry\n",
      "https://openstax.org/books/university-physics-volume-2/pages/1-5-phase-changes\n",
      "https://openstax.org/books/university-physics-volume-2/pages/1-6-mechanisms-of-heat-transfer\n",
      "https://openstax.org/books/university-physics-volume-2/pages/2-1-molecular-model-of-an-ideal-gas\n",
      "https://openstax.org/books/university-physics-volume-2/pages/2-2-pressure-temperature-and-rms-speed\n",
      "https://openstax.org/books/university-physics-volume-2/pages/2-3-heat-capacity-and-equipartition-of-energy\n",
      "https://openstax.org/books/university-physics-volume-2/pages/2-4-distribution-of-molecular-speeds\n",
      "https://openstax.org/books/university-physics-volume-2/pages/3-1-thermodynamic-systems\n",
      "https://openstax.org/books/university-physics-volume-2/pages/3-2-work-heat-and-internal-energy\n",
      "https://openstax.org/books/university-physics-volume-2/pages/3-3-first-law-of-thermodynamics\n",
      "https://openstax.org/books/university-physics-volume-2/pages/3-4-thermodynamic-processes\n",
      "https://openstax.org/books/university-physics-volume-2/pages/3-5-heat-capacities-of-an-ideal-gas\n",
      "https://openstax.org/books/university-physics-volume-2/pages/3-6-adiabatic-processes-for-an-ideal-gas\n",
      "https://openstax.org/books/university-physics-volume-2/pages/4-1-reversible-and-irreversible-processes\n",
      "https://openstax.org/books/university-physics-volume-2/pages/4-2-heat-engines\n",
      "https://openstax.org/books/university-physics-volume-2/pages/4-3-refrigerators-and-heat-pumps\n",
      "https://openstax.org/books/university-physics-volume-2/pages/4-4-statements-of-the-second-law-of-thermodynamics\n",
      "https://openstax.org/books/university-physics-volume-2/pages/4-5-the-carnot-cycle\n",
      "https://openstax.org/books/university-physics-volume-2/pages/4-6-entropy\n",
      "https://openstax.org/books/university-physics-volume-2/pages/4-7-entropy-on-a-microscopic-scale\n",
      "https://openstax.org/books/university-physics-volume-2/pages/5-1-electric-charge\n",
      "https://openstax.org/books/university-physics-volume-2/pages/5-2-conductors-insulators-and-charging-by-induction\n",
      "https://openstax.org/books/university-physics-volume-2/pages/5-3-coulombs-law\n",
      "https://openstax.org/books/university-physics-volume-2/pages/5-4-electric-field\n",
      "https://openstax.org/books/university-physics-volume-2/pages/5-5-calculating-electric-fields-of-charge-distributions\n",
      "https://openstax.org/books/university-physics-volume-2/pages/5-6-electric-field-lines\n",
      "https://openstax.org/books/university-physics-volume-2/pages/5-7-electric-dipoles\n",
      "https://openstax.org/books/university-physics-volume-2/pages/6-1-electric-flux\n",
      "https://openstax.org/books/university-physics-volume-2/pages/6-2-explaining-gausss-law\n",
      "https://openstax.org/books/university-physics-volume-2/pages/6-3-applying-gausss-law\n",
      "https://openstax.org/books/university-physics-volume-2/pages/6-4-conductors-in-electrostatic-equilibrium\n",
      "https://openstax.org/books/university-physics-volume-2/pages/7-1-electric-potential-energy\n",
      "https://openstax.org/books/university-physics-volume-2/pages/7-2-electric-potential-and-potential-difference\n",
      "https://openstax.org/books/university-physics-volume-2/pages/7-3-calculations-of-electric-potential\n",
      "https://openstax.org/books/university-physics-volume-2/pages/7-4-determining-field-from-potential\n",
      "https://openstax.org/books/university-physics-volume-2/pages/7-5-equipotential-surfaces-and-conductors\n",
      "https://openstax.org/books/university-physics-volume-2/pages/7-6-applications-of-electrostatics\n",
      "https://openstax.org/books/university-physics-volume-2/pages/8-1-capacitors-and-capacitance\n",
      "https://openstax.org/books/university-physics-volume-2/pages/8-2-capacitors-in-series-and-in-parallel\n",
      "https://openstax.org/books/university-physics-volume-2/pages/8-3-energy-stored-in-a-capacitor\n",
      "https://openstax.org/books/university-physics-volume-2/pages/8-4-capacitor-with-a-dielectric\n",
      "https://openstax.org/books/university-physics-volume-2/pages/8-5-molecular-model-of-a-dielectric\n",
      "https://openstax.org/books/university-physics-volume-2/pages/9-1-electrical-current\n",
      "https://openstax.org/books/university-physics-volume-2/pages/9-2-model-of-conduction-in-metals\n",
      "https://openstax.org/books/university-physics-volume-2/pages/9-3-resistivity-and-resistance\n",
      "https://openstax.org/books/university-physics-volume-2/pages/9-4-ohms-law\n",
      "https://openstax.org/books/university-physics-volume-2/pages/9-5-electrical-energy-and-power\n",
      "https://openstax.org/books/university-physics-volume-2/pages/9-6-superconductors\n",
      "https://openstax.org/books/university-physics-volume-2/pages/10-1-electromotive-force\n",
      "https://openstax.org/books/university-physics-volume-2/pages/10-2-resistors-in-series-and-parallel\n",
      "https://openstax.org/books/university-physics-volume-2/pages/10-3-kirchhoffs-rules\n",
      "https://openstax.org/books/university-physics-volume-2/pages/10-4-electrical-measuring-instruments\n",
      "https://openstax.org/books/university-physics-volume-2/pages/10-5-rc-circuits\n",
      "https://openstax.org/books/university-physics-volume-2/pages/10-6-household-wiring-and-electrical-safety\n",
      "https://openstax.org/books/university-physics-volume-2/pages/11-1-magnetism-and-its-historical-discoveries\n",
      "https://openstax.org/books/university-physics-volume-2/pages/11-2-magnetic-fields-and-lines\n",
      "https://openstax.org/books/university-physics-volume-2/pages/11-3-motion-of-a-charged-particle-in-a-magnetic-field\n",
      "https://openstax.org/books/university-physics-volume-2/pages/11-4-magnetic-force-on-a-current-carrying-conductor\n",
      "https://openstax.org/books/university-physics-volume-2/pages/11-5-force-and-torque-on-a-current-loop\n",
      "https://openstax.org/books/university-physics-volume-2/pages/11-6-the-hall-effect\n",
      "https://openstax.org/books/university-physics-volume-2/pages/11-7-applications-of-magnetic-forces-and-fields\n",
      "https://openstax.org/books/university-physics-volume-2/pages/12-1-the-biot-savart-law\n",
      "https://openstax.org/books/university-physics-volume-2/pages/12-2-magnetic-field-due-to-a-thin-straight-wire\n",
      "https://openstax.org/books/university-physics-volume-2/pages/12-3-magnetic-force-between-two-parallel-currents\n",
      "https://openstax.org/books/university-physics-volume-2/pages/12-4-magnetic-field-of-a-current-loop\n",
      "https://openstax.org/books/university-physics-volume-2/pages/12-5-amperes-law\n",
      "https://openstax.org/books/university-physics-volume-2/pages/12-6-solenoids-and-toroids\n",
      "https://openstax.org/books/university-physics-volume-2/pages/12-7-magnetism-in-matter\n",
      "https://openstax.org/books/university-physics-volume-2/pages/13-1-faradays-law\n",
      "https://openstax.org/books/university-physics-volume-2/pages/13-2-lenzs-law\n",
      "https://openstax.org/books/university-physics-volume-2/pages/13-3-motional-emf\n",
      "https://openstax.org/books/university-physics-volume-2/pages/13-4-induced-electric-fields\n",
      "https://openstax.org/books/university-physics-volume-2/pages/13-5-eddy-currents\n",
      "https://openstax.org/books/university-physics-volume-2/pages/13-6-electric-generators-and-back-emf\n",
      "https://openstax.org/books/university-physics-volume-2/pages/13-7-applications-of-electromagnetic-induction\n",
      "https://openstax.org/books/university-physics-volume-2/pages/14-1-mutual-inductance\n",
      "https://openstax.org/books/university-physics-volume-2/pages/14-2-self-inductance-and-inductors\n",
      "https://openstax.org/books/university-physics-volume-2/pages/14-3-energy-in-a-magnetic-field\n",
      "https://openstax.org/books/university-physics-volume-2/pages/14-4-rl-circuits\n",
      "https://openstax.org/books/university-physics-volume-2/pages/14-5-oscillations-in-an-lc-circuit\n",
      "https://openstax.org/books/university-physics-volume-2/pages/14-6-rlc-series-circuits\n",
      "https://openstax.org/books/university-physics-volume-2/pages/15-1-ac-sources\n",
      "https://openstax.org/books/university-physics-volume-2/pages/15-2-simple-ac-circuits\n",
      "https://openstax.org/books/university-physics-volume-2/pages/15-3-rlc-series-circuits-with-ac\n",
      "https://openstax.org/books/university-physics-volume-2/pages/15-4-power-in-an-ac-circuit\n",
      "https://openstax.org/books/university-physics-volume-2/pages/15-5-resonance-in-an-ac-circuit\n",
      "https://openstax.org/books/university-physics-volume-2/pages/15-6-transformers\n",
      "https://openstax.org/books/university-physics-volume-2/pages/16-1-maxwells-equations-and-electromagnetic-waves\n",
      "https://openstax.org/books/university-physics-volume-2/pages/16-2-plane-electromagnetic-waves\n",
      "https://openstax.org/books/university-physics-volume-2/pages/16-3-energy-carried-by-electromagnetic-waves\n",
      "https://openstax.org/books/university-physics-volume-2/pages/16-4-momentum-and-radiation-pressure\n",
      "https://openstax.org/books/university-physics-volume-2/pages/16-5-the-electromagnetic-spectrum\n"
     ]
    }
   ],
   "source": [
    "chapter_names = parse_table_of_contents('universityphysicsvolume2_table_of_contents.txt')\n",
    "base_url = 'https://openstax.org/books/university-physics-volume-2/pages/'\n",
    "\n",
    "learning_goals = read_learning_goals(chapter_names, base_url)"
   ]
  },
  {
   "cell_type": "code",
   "execution_count": 30,
   "metadata": {},
   "outputs": [
    {
     "name": "stdout",
     "output_type": "stream",
     "text": [
      "https://openstax.org/books/university-physics-volume-3/pages/1-1-the-propagation-of-light\n",
      "https://openstax.org/books/university-physics-volume-3/pages/1-2-the-law-of-reflection\n",
      "https://openstax.org/books/university-physics-volume-3/pages/1-3-refraction\n",
      "https://openstax.org/books/university-physics-volume-3/pages/1-4-total-internal-reflection\n",
      "https://openstax.org/books/university-physics-volume-3/pages/1-5-dispersion\n",
      "https://openstax.org/books/university-physics-volume-3/pages/1-6-huygenss-principle\n",
      "https://openstax.org/books/university-physics-volume-3/pages/1-7-polarization\n",
      "https://openstax.org/books/university-physics-volume-3/pages/2-1-images-formed-by-plane-mirrors\n",
      "https://openstax.org/books/university-physics-volume-3/pages/2-2-spherical-mirrors\n",
      "https://openstax.org/books/university-physics-volume-3/pages/2-3-images-formed-by-refraction\n",
      "https://openstax.org/books/university-physics-volume-3/pages/2-4-thin-lenses\n",
      "https://openstax.org/books/university-physics-volume-3/pages/2-5-the-eye\n",
      "https://openstax.org/books/university-physics-volume-3/pages/2-6-the-camera\n",
      "https://openstax.org/books/university-physics-volume-3/pages/2-7-the-simple-magnifier\n",
      "https://openstax.org/books/university-physics-volume-3/pages/2-8-microscopes-and-telescopes\n",
      "https://openstax.org/books/university-physics-volume-3/pages/3-1-youngs-double-slit-interference\n",
      "https://openstax.org/books/university-physics-volume-3/pages/3-2-mathematics-of-interference\n",
      "https://openstax.org/books/university-physics-volume-3/pages/3-3-multiple-slit-interference\n",
      "https://openstax.org/books/university-physics-volume-3/pages/3-4-interference-in-thin-films\n",
      "https://openstax.org/books/university-physics-volume-3/pages/3-5-the-michelson-interferometer\n",
      "https://openstax.org/books/university-physics-volume-3/pages/4-1-single-slit-diffraction\n",
      "https://openstax.org/books/university-physics-volume-3/pages/4-2-intensity-in-single-slit-diffraction\n",
      "https://openstax.org/books/university-physics-volume-3/pages/4-3-double-slit-diffraction\n",
      "https://openstax.org/books/university-physics-volume-3/pages/4-4-diffraction-gratings\n",
      "https://openstax.org/books/university-physics-volume-3/pages/4-5-circular-apertures-and-resolution\n",
      "https://openstax.org/books/university-physics-volume-3/pages/4-6-x-ray-diffraction\n",
      "https://openstax.org/books/university-physics-volume-3/pages/4-7-holography\n",
      "https://openstax.org/books/university-physics-volume-3/pages/5-1-invariance-of-physical-laws\n",
      "https://openstax.org/books/university-physics-volume-3/pages/5-2-relativity-of-simultaneity\n",
      "https://openstax.org/books/university-physics-volume-3/pages/5-3-time-dilation\n",
      "https://openstax.org/books/university-physics-volume-3/pages/5-4-length-contraction\n",
      "https://openstax.org/books/university-physics-volume-3/pages/5-5-the-lorentz-transformation\n",
      "https://openstax.org/books/university-physics-volume-3/pages/5-6-relativistic-velocity-transformation\n",
      "https://openstax.org/books/university-physics-volume-3/pages/5-7-doppler-effect-for-light\n",
      "https://openstax.org/books/university-physics-volume-3/pages/5-8-relativistic-momentum\n",
      "https://openstax.org/books/university-physics-volume-3/pages/5-9-relativistic-energy\n",
      "https://openstax.org/books/university-physics-volume-3/pages/6-1-blackbody-radiation\n",
      "https://openstax.org/books/university-physics-volume-3/pages/6-2-photoelectric-effect\n",
      "https://openstax.org/books/university-physics-volume-3/pages/6-3-the-compton-effect\n",
      "https://openstax.org/books/university-physics-volume-3/pages/6-4-bohrs-model-of-the-hydrogen-atom\n",
      "https://openstax.org/books/university-physics-volume-3/pages/6-5-de-broglies-matter-waves\n",
      "https://openstax.org/books/university-physics-volume-3/pages/6-6-wave-particle-duality\n",
      "https://openstax.org/books/university-physics-volume-3/pages/7-1-wave-functions\n",
      "https://openstax.org/books/university-physics-volume-3/pages/7-2-the-heisenberg-uncertainty-principle\n",
      "https://openstax.org/books/university-physics-volume-3/pages/7-3-the-schrodinger-equation\n",
      "https://openstax.org/books/university-physics-volume-3/pages/7-4-the-quantum-particle-in-a-box\n",
      "https://openstax.org/books/university-physics-volume-3/pages/7-5-the-quantum-harmonic-oscillator\n",
      "https://openstax.org/books/university-physics-volume-3/pages/7-6-the-quantum-tunneling-of-particles-through-potential-barriers\n",
      "https://openstax.org/books/university-physics-volume-3/pages/8-1-the-hydrogen-atom\n",
      "https://openstax.org/books/university-physics-volume-3/pages/8-2-orbital-magnetic-dipole-moment-of-the-electron\n",
      "https://openstax.org/books/university-physics-volume-3/pages/8-3-electron-spin\n",
      "https://openstax.org/books/university-physics-volume-3/pages/8-4-the-exclusion-principle-and-the-periodic-table\n",
      "https://openstax.org/books/university-physics-volume-3/pages/8-5-atomic-spectra-and-x-rays\n",
      "https://openstax.org/books/university-physics-volume-3/pages/8-6-lasers\n",
      "https://openstax.org/books/university-physics-volume-3/pages/9-1-types-of-molecular-bonds\n",
      "https://openstax.org/books/university-physics-volume-3/pages/9-2-molecular-spectra\n",
      "https://openstax.org/books/university-physics-volume-3/pages/9-3-bonding-in-crystalline-solids\n",
      "https://openstax.org/books/university-physics-volume-3/pages/9-4-free-electron-model-of-metals\n",
      "https://openstax.org/books/university-physics-volume-3/pages/9-5-band-theory-of-solids\n",
      "https://openstax.org/books/university-physics-volume-3/pages/9-6-semiconductors-and-doping\n",
      "https://openstax.org/books/university-physics-volume-3/pages/9-7-semiconductor-devices\n",
      "https://openstax.org/books/university-physics-volume-3/pages/9-8-superconductivity\n",
      "https://openstax.org/books/university-physics-volume-3/pages/10-1-properties-of-nuclei\n",
      "https://openstax.org/books/university-physics-volume-3/pages/10-2-nuclear-binding-energy\n",
      "https://openstax.org/books/university-physics-volume-3/pages/10-3-radioactive-decay\n",
      "https://openstax.org/books/university-physics-volume-3/pages/10-4-nuclear-reactions\n",
      "https://openstax.org/books/university-physics-volume-3/pages/10-5-fission\n",
      "https://openstax.org/books/university-physics-volume-3/pages/10-6-nuclear-fusion\n",
      "https://openstax.org/books/university-physics-volume-3/pages/10-7-medical-applications-and-biological-effects-of-nuclear-radiation\n",
      "https://openstax.org/books/university-physics-volume-3/pages/11-1-introduction-to-particle-physics\n",
      "https://openstax.org/books/university-physics-volume-3/pages/11-2-particle-conservation-laws\n",
      "https://openstax.org/books/university-physics-volume-3/pages/11-3-quarks\n",
      "https://openstax.org/books/university-physics-volume-3/pages/11-4-particle-accelerators-and-detectors\n",
      "https://openstax.org/books/university-physics-volume-3/pages/11-5-the-standard-model\n",
      "https://openstax.org/books/university-physics-volume-3/pages/11-6-the-big-bang\n",
      "https://openstax.org/books/university-physics-volume-3/pages/11-7-evolution-of-the-early-universe\n"
     ]
    }
   ],
   "source": [
    "chapter_names = parse_table_of_contents('universityphysicsvolume3_table_of_contents.txt')\n",
    "base_url = 'https://openstax.org/books/university-physics-volume-3/pages/'\n",
    "\n",
    "learning_goals = read_learning_goals(chapter_names, base_url)"
   ]
  },
  {
   "cell_type": "code",
   "execution_count": 31,
   "metadata": {},
   "outputs": [],
   "source": [
    "import json\n",
    "\n",
    "with open('universityphysicsvolume3_subchapter_to_learning_goal.json', 'w+') as f:\n",
    "    json.dump(learning_goals, f)"
   ]
  },
  {
   "cell_type": "code",
   "execution_count": 27,
   "metadata": {},
   "outputs": [],
   "source": [
    "import urllib"
   ]
  },
  {
   "cell_type": "code",
   "execution_count": 127,
   "metadata": {},
   "outputs": [],
   "source": [
    "url = 'https://openstax.org/books/biology-2e/pages/2-3-carbon'\n",
    "\n",
    "response = urllib.request.urlopen(url)\n",
    "\n",
    "html = response.read().decode('utf8')"
   ]
  },
  {
   "cell_type": "code",
   "execution_count": 128,
   "metadata": {},
   "outputs": [],
   "source": [
    "import re"
   ]
  },
  {
   "cell_type": "code",
   "execution_count": 129,
   "metadata": {},
   "outputs": [],
   "source": [
    "matches = re.findall('<ul id=\\\"list-00001\\\">[\\s\\S]*?</ul>', html)"
   ]
  },
  {
   "cell_type": "code",
   "execution_count": 130,
   "metadata": {},
   "outputs": [
    {
     "data": {
      "text/plain": [
       "True"
      ]
     },
     "execution_count": 130,
     "metadata": {},
     "output_type": "execute_result"
    }
   ],
   "source": [
    "'Learning Objectives' in html"
   ]
  },
  {
   "cell_type": "code",
   "execution_count": 131,
   "metadata": {},
   "outputs": [
    {
     "data": {
      "text/plain": [
       "['<ul id=\"list-00001\">\\n<li>Explain why carbon is important for life</li>\\n<li>Describe the role of functional groups in biological molecules</li>\\n</ul>']"
      ]
     },
     "execution_count": 131,
     "metadata": {},
     "output_type": "execute_result"
    }
   ],
   "source": [
    "matches"
   ]
  },
  {
   "cell_type": "code",
   "execution_count": 134,
   "metadata": {},
   "outputs": [
    {
     "data": {
      "text/plain": [
       "['Explain why carbon is important for life',\n",
       " 'Describe the role of functional groups in biological molecules']"
      ]
     },
     "execution_count": 134,
     "metadata": {},
     "output_type": "execute_result"
    }
   ],
   "source": [
    "extracted = re.findall('<li>[\\s\\S].*</li>', matches[0])\n",
    "[item[4:-5] for item in extracted]"
   ]
  },
  {
   "cell_type": "code",
   "execution_count": 117,
   "metadata": {},
   "outputs": [
    {
     "data": {
      "text/plain": [
       "list"
      ]
     },
     "execution_count": 117,
     "metadata": {},
     "output_type": "execute_result"
    }
   ],
   "source": [
    "type(matches)"
   ]
  },
  {
   "cell_type": "code",
   "execution_count": 118,
   "metadata": {},
   "outputs": [],
   "source": [
    "raw_str = matches[0]\n"
   ]
  },
  {
   "cell_type": "code",
   "execution_count": 119,
   "metadata": {},
   "outputs": [
    {
     "name": "stdout",
     "output_type": "stream",
     "text": [
      "['<ul id=\"list-00001\"', 'Explain why carbon is important for life</li', 'Describe the role of functional groups in biological molecules</li>\\n</ul>']\n"
     ]
    }
   ],
   "source": [
    "raw_lgs = raw_str.split('>\\n<li>')\n",
    "print(raw_lgs)"
   ]
  },
  {
   "cell_type": "code",
   "execution_count": 120,
   "metadata": {},
   "outputs": [],
   "source": [
    "for i in range(len(raw_lgs)):\n",
    "    raw_lgs[i] = raw_lgs[i].split('<')"
   ]
  },
  {
   "cell_type": "code",
   "execution_count": 121,
   "metadata": {},
   "outputs": [
    {
     "name": "stdout",
     "output_type": "stream",
     "text": [
      "[['', 'ul id=\"list-00001\"'], ['Explain why carbon is important for life', '/li'], ['Describe the role of functional groups in biological molecules', '/li>\\n', '/ul>']]\n"
     ]
    }
   ],
   "source": [
    "print(raw_lgs)"
   ]
  },
  {
   "cell_type": "code",
   "execution_count": 122,
   "metadata": {},
   "outputs": [],
   "source": [
    "processed_lgs = []\n",
    "for i in range(1, len(raw_lgs)):\n",
    "    elem = raw_lgs[i]\n",
    "    processed_lgs.append(elem[0])\n"
   ]
  },
  {
   "cell_type": "code",
   "execution_count": 123,
   "metadata": {},
   "outputs": [
    {
     "name": "stdout",
     "output_type": "stream",
     "text": [
      "['Explain why carbon is important for life', 'Describe the role of functional groups in biological molecules']\n"
     ]
    }
   ],
   "source": [
    "print(processed_lgs)"
   ]
  },
  {
   "cell_type": "code",
   "execution_count": null,
   "metadata": {},
   "outputs": [],
   "source": []
  }
 ],
 "metadata": {
  "kernelspec": {
   "display_name": "Python 3.9.13 ('interchange')",
   "language": "python",
   "name": "python3"
  },
  "language_info": {
   "codemirror_mode": {
    "name": "ipython",
    "version": 3
   },
   "file_extension": ".py",
   "mimetype": "text/x-python",
   "name": "python",
   "nbconvert_exporter": "python",
   "pygments_lexer": "ipython3",
   "version": "3.9.13"
  },
  "orig_nbformat": 4,
  "vscode": {
   "interpreter": {
    "hash": "d283f86b5d2fbc31f35f78f73be4d0bb5be67dfbb54fdd34f287f29d60f844e5"
   }
  }
 },
 "nbformat": 4,
 "nbformat_minor": 2
}
